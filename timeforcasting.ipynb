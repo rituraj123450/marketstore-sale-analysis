{
 "cells": [
  {
   "cell_type": "code",
   "execution_count": null,
   "id": "904f8b2a-3da3-44ea-9d2d-ddd83e2df594",
   "metadata": {},
   "outputs": [],
   "source": [
    "!pip install fbprophet\n",
    "import warnings\n",
    "import itertools\n",
    "import numpy as np\n",
    "import matplotlib.pyplot as plt\n",
    "warnings.filterwarnings(\"ignore\")\n",
    "plt.style.use('fivethirtyeight')\n",
    "import pandas as pd\n",
    "import statsmodels.api as sm\n",
    "import matplotlib\n",
    "matplotlib.rcParams['axes.labelsize'] = 14\n",
    "matplotlib.rcParams['xtick.labelsize'] = 12\n",
    "matplotlib.rcParams['ytick.labelsize'] = 12\n",
    "matplotlib.rcParams['text.color'] = 'k'"
   ]
  },
  {
   "cell_type": "code",
   "execution_count": null,
   "id": "2683d1cd-2b66-4805-ab0d-383e3b4d1a2a",
   "metadata": {},
   "outputs": [],
   "source": [
    "df = pd.read_excel(\"Superstore.xls\")\n",
    "furniture = df.loc[df['Category'] == 'Furniture']"
   ]
  },
  {
   "cell_type": "code",
   "execution_count": null,
   "id": "f3e75ee6-bc00-4c86-ba79-905e80850d51",
   "metadata": {},
   "outputs": [],
   "source": [
    "furniture['Order Date'].min(), furniture['Order Date'].max()"
   ]
  },
  {
   "cell_type": "markdown",
   "id": "69d3fe60-7573-4c55-a0be-5f31c3cd1bd5",
   "metadata": {},
   "source": [
    "### Data Processing ##"
   ]
  },
  {
   "cell_type": "code",
   "execution_count": null,
   "id": "8eeb1b17-7c1f-429b-b82b-da9c76bc7977",
   "metadata": {},
   "outputs": [],
   "source": [
    "cols = ['Row ID', 'Order ID', 'Ship Date', 'Ship Mode', 'Customer ID', 'Customer Name', 'Segment', 'Country', 'City', 'State', 'Postal Code', 'Region', 'Product ID', 'Category', 'Sub-Category', 'Product Name', 'Quantity', 'Discount', 'Profit']\n",
    "furniture.drop(cols, axis=1, inplace=True)\n",
    "furniture = furniture.sort_values('Order Date')\n",
    "furniture.isnull().sum()"
   ]
  },
  {
   "cell_type": "code",
   "execution_count": null,
   "id": "cff8708b-2fdc-4635-a815-67f3533ae0b1",
   "metadata": {},
   "outputs": [],
   "source": [
    "furniture = furniture.groupby('Order Date')['Sales'].sum().reset_index()"
   ]
  },
  {
   "cell_type": "markdown",
   "id": "92354bf8-c5ec-4eae-b6b4-c1a0f735d117",
   "metadata": {},
   "source": [
    "# Indexing with Time Series Data #"
   ]
  },
  {
   "cell_type": "code",
   "execution_count": null,
   "id": "776072cc-c812-4b1b-8a6d-5284af1841be",
   "metadata": {},
   "outputs": [],
   "source": [
    "furniture = furniture.set_index('Order Date')\n",
    "furniture.index"
   ]
  },
  {
   "cell_type": "code",
   "execution_count": null,
   "id": "52a867e7-f2ab-4fa7-9faa-831a30ab01a3",
   "metadata": {},
   "outputs": [],
   "source": [
    "y = furniture['Sales'].resample('MS').mean()"
   ]
  },
  {
   "cell_type": "code",
   "execution_count": null,
   "id": "cfc98a42-bb8c-466a-a4ac-1c63ccf860ff",
   "metadata": {},
   "outputs": [],
   "source": [
    "y['2017':]"
   ]
  },
  {
   "cell_type": "markdown",
   "id": "774ef6a2-1986-41ad-952f-69177f388494",
   "metadata": {},
   "source": [
    "# Visualizing Furniture Sales Time Series Data #"
   ]
  },
  {
   "cell_type": "code",
   "execution_count": null,
   "id": "4733c131-64db-4d81-9c2e-65ab5a7fb9b5",
   "metadata": {},
   "outputs": [],
   "source": [
    "y.plot(figsize=(15, 6))\n",
    "plt.show()"
   ]
  },
  {
   "cell_type": "code",
   "execution_count": null,
   "id": "6ebf7c3d-5a39-4fe6-937e-c18337da87ad",
   "metadata": {},
   "outputs": [],
   "source": [
    "from pylab import rcParams\n",
    "rcParams['figure.figsize'] = 18, 8\n",
    "decomposition = sm.tsa.seasonal_decompose(y, model='additive')\n",
    "fig = decomposition.plot()\n",
    "plt.show()"
   ]
  },
  {
   "cell_type": "markdown",
   "id": "b1189f70-c435-4ed1-b7bd-3f361f63fa79",
   "metadata": {},
   "source": [
    "# Time series forecasting with ARIMA #"
   ]
  },
  {
   "cell_type": "code",
   "execution_count": null,
   "id": "8912a910-2940-457e-a33f-03f443213292",
   "metadata": {},
   "outputs": [],
   "source": [
    "p = d = q = range(0, 2)\n",
    "pdq = list(itertools.product(p, d, q))\n",
    "seasonal_pdq = [(x[0], x[1], x[2], 12) for x in list(itertools.product(p, d, q))]\n",
    "print('Examples of parameter combinations for Seasonal ARIMA...')\n",
    "print('SARIMAX: {} x {}'.format(pdq[1], seasonal_pdq[1]))\n",
    "print('SARIMAX: {} x {}'.format(pdq[1], seasonal_pdq[2]))\n",
    "print('SARIMAX: {} x {}'.format(pdq[2], seasonal_pdq[3]))\n",
    "print('SARIMAX: {} x {}'.format(pdq[2], seasonal_pdq[4]))"
   ]
  },
  {
   "cell_type": "code",
   "execution_count": null,
   "id": "e7d3111d-60df-4eef-b413-20620d6963d8",
   "metadata": {},
   "outputs": [],
   "source": [
    "for param in pdq:\n",
    "    for param_seasonal in seasonal_pdq:\n",
    "        try:\n",
    "            mod = sm.tsa.statespace.SARIMAX(y,\n",
    "                                            order=param,\n",
    "seasonal_order=param_seasonal,\n",
    "enforce_stationarity=False,\n",
    "enforce_invertibility=False)\n",
    "            results = mod.fit()\n",
    "\n",
    "            print('ARIMA{}x{}12 - AIC:{}'.format(param, param_seasonal, results.aic))\n",
    "        except:\n",
    "            continue"
   ]
  },
  {
   "cell_type": "markdown",
   "id": "900a8d1d-fa1f-4f63-8312-e980c4e1247c",
   "metadata": {},
   "source": [
    "## Fitting the ARIMA model ##"
   ]
  },
  {
   "cell_type": "code",
   "execution_count": null,
   "id": "03198336-abf6-4b2a-a72d-4fc119fda514",
   "metadata": {},
   "outputs": [],
   "source": [
    "mod = sm.tsa.statespace.SARIMAX(y,\n",
    "                                order=(1, 1, 1),\n",
    "                                seasonal_order=(1, 1, 0, 12),\n",
    "                                enforce_stationarity=False,\n",
    "                                enforce_invertibility=False)\n",
    "results = mod.fit()\n",
    "print(results.summary().tables[1])\n"
   ]
  },
  {
   "cell_type": "code",
   "execution_count": null,
   "id": "5fa4dc33-41fe-486b-842e-5158498daa4d",
   "metadata": {},
   "outputs": [],
   "source": []
  },
  {
   "cell_type": "markdown",
   "id": "597a9811-d8a2-42ec-a3e4-3c3cd405d13b",
   "metadata": {},
   "source": [
    "# Validating forecasts #"
   ]
  },
  {
   "cell_type": "code",
   "execution_count": null,
   "id": "e2a1ba0e-9d69-4d3d-8c21-df2eb01f7854",
   "metadata": {},
   "outputs": [],
   "source": [
    "pred = results.get_prediction(start=pd.to_datetime('2017-01-01'), dynamic=False)\n",
    "pred_ci = pred.conf_int()\n",
    "ax = y['2014':].plot(label='observed')\n",
    "pred.predicted_mean.plot(ax=ax, label='One-step ahead Forecast', alpha=.7, figsize=(14, 7))\n",
    "ax.fill_between(pred_ci.index,\n",
    "                pred_ci.iloc[:, 0],\n",
    "                pred_ci.iloc[:, 1], color='k', alpha=.2)\n",
    "ax.set_xlabel('Date')\n",
    "ax.set_ylabel('Furniture Sales')\n",
    "plt.legend()\n",
    "plt.show()"
   ]
  },
  {
   "cell_type": "code",
   "execution_count": null,
   "id": "d4abdf77-cfd2-4735-afbd-dc97cc8a1bfa",
   "metadata": {},
   "outputs": [],
   "source": [
    "y_forecasted = pred.predicted_mean\n",
    "y_truth = y['2017-01-01':]\n",
    "mse = ((y_forecasted - y_truth) ** 2).mean()\n",
    "print('The Mean Squared Error of our forecasts is {}'.format(round(mse, 2)))"
   ]
  },
  {
   "cell_type": "code",
   "execution_count": null,
   "id": "3b381390-d697-4758-a181-9828ef487a96",
   "metadata": {},
   "outputs": [],
   "source": [
    "print('The Root Mean Squared Error of our forecasts is {}'.format(round(np.sqrt(mse), 2)))"
   ]
  },
  {
   "cell_type": "markdown",
   "id": "e925c3cf-89a8-49f9-aad1-2f8b9377d487",
   "metadata": {},
   "source": [
    "## Producing and visualizing forecasts ##"
   ]
  },
  {
   "cell_type": "code",
   "execution_count": null,
   "id": "caa5b6c6-f464-4a78-9e43-9e9d856d2b2b",
   "metadata": {},
   "outputs": [],
   "source": [
    "pred_uc = results.get_forecast(steps=100)\n",
    "pred_ci = pred_uc.conf_int()\n",
    "ax = y.plot(label='observed', figsize=(14, 7))\n",
    "pred_uc.predicted_mean.plot(ax=ax, label='Forecast')\n",
    "ax.fill_between(pred_ci.index,\n",
    "                pred_ci.iloc[:, 0],\n",
    "                pred_ci.iloc[:, 1], color='k', alpha=.25)\n",
    "ax.set_xlabel('Date')\n",
    "ax.set_ylabel('Furniture Sales')\n",
    "plt.legend()\n",
    "plt.show()"
   ]
  },
  {
   "cell_type": "markdown",
   "id": "9f554ae1-3398-479d-9901-daec756208ed",
   "metadata": {},
   "source": [
    "## Time Series of Furniture vs. Office Supplies #"
   ]
  },
  {
   "cell_type": "code",
   "execution_count": null,
   "id": "b79de8f6-f573-4ac3-80a9-3569553dc5ba",
   "metadata": {},
   "outputs": [],
   "source": [
    "furniture = df.loc[df['Category'] == 'Furniture']\n",
    "office = df.loc[df['Category'] == 'Office Supplies']\n",
    "furniture.shape, office.shape"
   ]
  },
  {
   "cell_type": "markdown",
   "id": "8dd59596-3580-48bd-bbd9-3ae18509d4ee",
   "metadata": {},
   "source": [
    "## Data Exploration ##"
   ]
  },
  {
   "cell_type": "code",
   "execution_count": null,
   "id": "2c5d73e2-22f7-48ef-8795-3bf1abf6a331",
   "metadata": {},
   "outputs": [],
   "source": [
    "cols = ['Row ID', 'Order ID', 'Ship Date', 'Ship Mode', 'Customer ID', 'Customer Name', 'Segment', 'Country', 'City', 'State', 'Postal Code', 'Region', 'Product ID', 'Category', 'Sub-Category', 'Product Name', 'Quantity', 'Discount', 'Profit']\n",
    "furniture.drop(cols, axis=1, inplace=True)\n",
    "office.drop(cols, axis=1, inplace=True)\n",
    "furniture = furniture.sort_values('Order Date')\n",
    "office = office.sort_values('Order Date')\n",
    "furniture = furniture.groupby('Order Date')['Sales'].sum().reset_index()\n",
    "office = office.groupby('Order Date')['Sales'].sum().reset_index()\n",
    "furniture = furniture.set_index('Order Date')\n",
    "office = office.set_index('Order Date')\n",
    "y_furniture = furniture['Sales'].resample('MS').mean()\n",
    "y_office = office['Sales'].resample('MS').mean()\n",
    "furniture = pd.DataFrame({'Order Date':y_furniture.index, 'Sales':y_furniture.values})\n",
    "office = pd.DataFrame({'Order Date': y_office.index, 'Sales': y_office.values})\n",
    "store = furniture.merge(office, how='inner', on='Order Date')\n",
    "store.rename(columns={'Sales_x': 'furniture_sales', 'Sales_y': 'office_sales'}, inplace=True)\n",
    "store.head()"
   ]
  },
  {
   "cell_type": "code",
   "execution_count": null,
   "id": "a7627693-6355-4e35-9426-0ca9cc380042",
   "metadata": {},
   "outputs": [],
   "source": [
    "plt.figure(figsize=(20, 8))\n",
    "plt.plot(store['Order Date'], store['furniture_sales'], 'b-', label = 'furniture')\n",
    "plt.plot(store['Order Date'], store['office_sales'], 'r-', label = 'office supplies')\n",
    "plt.xlabel('Date'); plt.ylabel('Sales'); plt.title('Sales of Furniture and Office Supplies')\n",
    "plt.legend();"
   ]
  },
  {
   "cell_type": "code",
   "execution_count": null,
   "id": "1535fe26-6dbb-4e74-b764-e5ab8b446e1b",
   "metadata": {},
   "outputs": [],
   "source": [
    "first_date = store.ix[np.min(list(np.where(store['office_sales'] > store['furniture_sales'])[0])), 'Order Date']\n",
    "print(\"Office supplies first time produced higher sales than furniture is {}.\".format(first_date.date()))"
   ]
  },
  {
   "cell_type": "markdown",
   "id": "07a82974-33ec-4128-a687-063969eaa486",
   "metadata": {},
   "source": [
    "## Time Series Modeling with Prophet ##"
   ]
  },
  {
   "cell_type": "code",
   "execution_count": null,
   "id": "7c8eb54f-08c8-4d10-98c3-0ce17cfbc37a",
   "metadata": {},
   "outputs": [],
   "source": [
    "from fbprophet import Prophet\n"
   ]
  },
  {
   "cell_type": "code",
   "execution_count": null,
   "id": "22aa5320-8d78-4011-9004-be6e7f8a4dd1",
   "metadata": {},
   "outputs": [],
   "source": [
    "furniture = furniture.rename(columns={'Order Date': 'ds', 'Sales': 'y'})\n",
    "furniture_model = Prophet(interval_width=0.95)\n",
    "furniture_model.fit(furniture)\n",
    "office = office.rename(columns={'Order Date': 'ds', 'Sales': 'y'})\n",
    "office_model = Prophet(interval_width=0.95)\n",
    "office_model.fit(office)\n",
    "furniture_forecast = furniture_model.make_future_dataframe(periods=36, freq='MS')\n",
    "furniture_forecast = furniture_model.predict(furniture_forecast)\n",
    "office_forecast = office_model.make_future_dataframe(periods=36, freq='MS')\n",
    "office_forecast = office_model.predict(office_forecast)\n",
    "plt.figure(figsize=(18, 6))\n",
    "furniture_model.plot(furniture_forecast, xlabel = 'Date', ylabel = 'Sales')\n",
    "plt.title('Furniture Sales');"
   ]
  },
  {
   "cell_type": "code",
   "execution_count": null,
   "id": "a44926ba-8be4-4ab6-8786-6b8287c5a199",
   "metadata": {},
   "outputs": [],
   "source": [
    "plt.figure(figsize=(18, 6))\n",
    "office_model.plot(office_forecast, xlabel = 'Date', ylabel = 'Sales')\n",
    "plt.title('Office Supplies Sales');"
   ]
  },
  {
   "cell_type": "markdown",
   "id": "d5701431-06dd-4c81-a70c-8990ccb78553",
   "metadata": {},
   "source": [
    "## Compare Forecasts ##"
   ]
  },
  {
   "cell_type": "code",
   "execution_count": null,
   "id": "7a45773b-c1a1-4875-a91a-e4072490d648",
   "metadata": {},
   "outputs": [],
   "source": [
    "furniture_names = ['furniture_%s' % column for column in furniture_forecast.columns]\n",
    "office_names = ['office_%s' % column for column in office_forecast.columns]\n",
    "merge_furniture_forecast = furniture_forecast.copy()\n",
    "merge_office_forecast = office_forecast.copy()\n",
    "merge_furniture_forecast.columns = furniture_names\n",
    "merge_office_forecast.columns = office_names\n",
    "forecast = pd.merge(merge_furniture_forecast, merge_office_forecast, how = 'inner', left_on = 'furniture_ds', right_on = 'office_ds')\n",
    "forecast = forecast.rename(columns={'furniture_ds': 'Date'}).drop('office_ds', axis=1)\n",
    "forecast.head()"
   ]
  },
  {
   "cell_type": "markdown",
   "id": "189d456b-f876-4f9a-ba28-49128b249378",
   "metadata": {},
   "source": [
    "## Trend and Forecast Visualization #"
   ]
  },
  {
   "cell_type": "code",
   "execution_count": null,
   "id": "3a69d2e1-5b43-4d8a-a0ff-6857afed211c",
   "metadata": {},
   "outputs": [],
   "source": [
    "plt.figure(figsize=(10, 7))\n",
    "plt.plot(forecast['Date'], forecast['furniture_trend'], 'b-')\n",
    "plt.plot(forecast['Date'], forecast['office_trend'], 'r-')\n",
    "plt.legend(); plt.xlabel('Date'); plt.ylabel('Sales')\n",
    "plt.title('Furniture vs. Office Supplies Sales Trend');"
   ]
  },
  {
   "cell_type": "markdown",
   "id": "03b8c5d8-5b28-4a9a-96da-1e9a39b76985",
   "metadata": {},
   "source": [
    "plt.figure(figsize=(10, 7))\n",
    "plt.plot(forecast['Date'], forecast['furniture_yhat'], 'b-')\n",
    "plt.plot(forecast['Date'], forecast['office_yhat'], 'r-')\n",
    "plt.legend(); plt.xlabel('Date'); plt.ylabel('Sales')\n",
    "plt.title('Furniture vs. Office Supplies Estimate');"
   ]
  },
  {
   "cell_type": "markdown",
   "id": "6a71ba8b-fd7c-418c-a3e1-264c55ab1a7a",
   "metadata": {},
   "source": [
    "## Trends and Patterns #"
   ]
  },
  {
   "cell_type": "code",
   "execution_count": null,
   "id": "9ae18f56-823b-406e-b620-19d03598acba",
   "metadata": {},
   "outputs": [],
   "source": [
    "furniture_model.plot_components(furniture_forecast);"
   ]
  },
  {
   "cell_type": "code",
   "execution_count": null,
   "id": "52b8176b-5bf7-4ead-8c64-26bd96e297b2",
   "metadata": {},
   "outputs": [],
   "source": [
    "office_model.plot_components(office_forecast);"
   ]
  },
  {
   "cell_type": "code",
   "execution_count": null,
   "id": "206eb897-a2e5-4a99-ba21-d1b20d7d6676",
   "metadata": {},
   "outputs": [],
   "source": []
  },
  {
   "cell_type": "code",
   "execution_count": null,
   "id": "ad61372a-9468-45c8-aa9b-3bf327a08027",
   "metadata": {},
   "outputs": [],
   "source": []
  }
 ],
 "metadata": {
  "kernelspec": {
   "display_name": "Python 3 (ipykernel)",
   "language": "python",
   "name": "python3"
  },
  "language_info": {
   "codemirror_mode": {
    "name": "ipython",
    "version": 3
   },
   "file_extension": ".py",
   "mimetype": "text/x-python",
   "name": "python",
   "nbconvert_exporter": "python",
   "pygments_lexer": "ipython3",
   "version": "3.9.12"
  }
 },
 "nbformat": 4,
 "nbformat_minor": 5
}
